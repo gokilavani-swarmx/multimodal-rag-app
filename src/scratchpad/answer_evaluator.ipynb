{
 "cells": [
  {
   "cell_type": "code",
   "execution_count": 7,
   "metadata": {},
   "outputs": [],
   "source": [
    "import os"
   ]
  },
  {
   "cell_type": "code",
   "execution_count": 5,
   "metadata": {},
   "outputs": [],
   "source": [
    "from langchain_core.prompts import ChatPromptTemplate\n",
    "from langchain_ollama.llms import OllamaLLM"
   ]
  },
  {
   "cell_type": "code",
   "execution_count": null,
   "metadata": {},
   "outputs": [],
   "source": [
    "\n",
    "template = \"\"\"Question: {question}\n",
    "\n",
    "Answer: Let's think step by step.\"\"\"\n",
    "\n",
    "prompt = ChatPromptTemplate.from_template(template)\n",
    "\n",
    "model = OllamaLLM(model=\"llama3.2:1b\")\n",
    "\n",
    "chain = prompt | model\n",
    "\n",
    "chain.invoke({\"question\": \"What is LangChain?\"})"
   ]
  },
  {
   "cell_type": "code",
   "execution_count": 1,
   "metadata": {},
   "outputs": [],
   "source": [
    "answer_dict_str = {'Text_Only_Data_LLM': {'context': [...], 'question': 'what is the accuracy of CI1A J Thermocouple?', 'output': 'The accuracy of CI1A J Thermocouple is larger of -2% or -3ß C (-6ß F).'}, 'Text_Table_Image_Summary_LLM': {'context': [...], 'question': 'what is the accuracy of CI1A J Thermocouple?', 'output': \"Based on the provided context, there is no information about the accuracy of CI1A J Thermocouple. The provided documents contain information about thermopile sensors and thermal measurement systems, but not specifically about thermocouples.\\n\\nHowever, I can suggest that you may be referring to the document with id '42bce14a-7c82-41f9-84da-d7132f378c95', which contains information about thermo-couple devices. According to this document, there is no specific information about the accuracy of CI1A J Thermocouple.\\n\\nIf you could provide more context or clarify which document you are referring to, I'll be happy to help further.\"}, 'Text_Table_Image_TexEembd_MMdl': {'context': {...}, 'question': 'what is the accuracy of CI1A J Thermocouple?', 'output': ' The accuracy of the CI1A J Thermocouple ranges from ±2% or ±3°C (±6°F) for temperatures between 0 and 225°C (32 to 440°F). This is based on the provided information in the text and table. It should be noted that this accuracy range may not reflect real-world performance. '}, 'Text_Table_Image_MmdlEmbd_MMdl': {'context': {...}, 'question': 'what is the accuracy of CI1A J Thermocouple?', 'output': ' The accuracy of a CI1A J Thermocouple is given as 0 to 115°C (32 to 240°F) with a larger error of -2% or -3°C (-6°F). This information can be found in the provided context. '}}"
   ]
  },
  {
   "cell_type": "code",
   "execution_count": 2,
   "metadata": {},
   "outputs": [],
   "source": [
    "answer_dict = answer_dict_str"
   ]
  },
  {
   "cell_type": "code",
   "execution_count": 3,
   "metadata": {},
   "outputs": [],
   "source": [
    "from ollama_utils import ollama_model_list, ollama_active_model_list, ollama_unload_models, stop_ollama"
   ]
  },
  {
   "cell_type": "code",
   "execution_count": 4,
   "metadata": {},
   "outputs": [
    {
     "name": "stdout",
     "output_type": "stream",
     "text": [
      "Text_Only_Data_LLM \n",
      "\n",
      "\n",
      "{'context': [Ellipsis], 'question': 'what is the accuracy of CI1A J Thermocouple?', 'output': 'The accuracy of CI1A J Thermocouple is larger of -2% or -3ß C (-6ß F).'}\n",
      "Text_Table_Image_Summary_LLM \n",
      "\n",
      "\n",
      "{'context': [Ellipsis], 'question': 'what is the accuracy of CI1A J Thermocouple?', 'output': \"Based on the provided context, there is no information about the accuracy of CI1A J Thermocouple. The provided documents contain information about thermopile sensors and thermal measurement systems, but not specifically about thermocouples.\\n\\nHowever, I can suggest that you may be referring to the document with id '42bce14a-7c82-41f9-84da-d7132f378c95', which contains information about thermo-couple devices. According to this document, there is no specific information about the accuracy of CI1A J Thermocouple.\\n\\nIf you could provide more context or clarify which document you are referring to, I'll be happy to help further.\"}\n",
      "Text_Table_Image_TexEembd_MMdl \n",
      "\n",
      "\n",
      "{'context': {Ellipsis}, 'question': 'what is the accuracy of CI1A J Thermocouple?', 'output': ' The accuracy of the CI1A J Thermocouple ranges from ±2% or ±3°C (±6°F) for temperatures between 0 and 225°C (32 to 440°F). This is based on the provided information in the text and table. It should be noted that this accuracy range may not reflect real-world performance. '}\n",
      "Text_Table_Image_MmdlEmbd_MMdl \n",
      "\n",
      "\n",
      "{'context': {Ellipsis}, 'question': 'what is the accuracy of CI1A J Thermocouple?', 'output': ' The accuracy of a CI1A J Thermocouple is given as 0 to 115°C (32 to 240°F) with a larger error of -2% or -3°C (-6°F). This information can be found in the provided context. '}\n"
     ]
    }
   ],
   "source": [
    "answer_dict_refrmtd = dict()\n",
    "answer_txt = ''\n",
    "for idx, itms in enumerate(answer_dict.items()):\n",
    "    key, val = itms\n",
    "    print(key, \"\\n\\n\")\n",
    "    print(val)\n",
    "    if idx == 0:\n",
    "        answer_dict_refrmtd['question'] = val['question']\n",
    "    answer_dict_refrmtd[key] = val['output']\n",
    "    answer_txt += val['output'] + \"\\n\""
   ]
  },
  {
   "cell_type": "code",
   "execution_count": 31,
   "metadata": {},
   "outputs": [
    {
     "data": {
      "text/plain": [
       "{'question': 'what is the accuracy of CI1A J Thermocouple?',\n",
       " 'Text_Only_Data_LLM': 'The accuracy of CI1A J Thermocouple is larger of -2% or -3ß C (-6ß F).',\n",
       " 'Text_Table_Image_Summary_LLM': \"Based on the provided context, there is no information about the accuracy of CI1A J Thermocouple. The provided documents contain information about thermopile sensors and thermal measurement systems, but not specifically about thermocouples.\\n\\nHowever, I can suggest that you may be referring to the document with id '42bce14a-7c82-41f9-84da-d7132f378c95', which contains information about thermo-couple devices. According to this document, there is no specific information about the accuracy of CI1A J Thermocouple.\\n\\nIf you could provide more context or clarify which document you are referring to, I'll be happy to help further.\",\n",
       " 'Text_Table_Image_TexEembd_MMdl': ' The accuracy of the CI1A J Thermocouple ranges from ±2% or ±3°C (±6°F) for temperatures between 0 and 225°C (32 to 440°F). This is based on the provided information in the text and table. It should be noted that this accuracy range may not reflect real-world performance. ',\n",
       " 'Text_Table_Image_MmdlEmbd_MMdl': ' The accuracy of a CI1A J Thermocouple is given as 0 to 115°C (32 to 240°F) with a larger error of -2% or -3°C (-6°F). This information can be found in the provided context. '}"
      ]
     },
     "execution_count": 31,
     "metadata": {},
     "output_type": "execute_result"
    }
   ],
   "source": [
    "answer_dict_refrmtd"
   ]
  },
  {
   "cell_type": "code",
   "execution_count": 24,
   "metadata": {},
   "outputs": [],
   "source": [
    "def ensemble_result(answer_dict):\n",
    "    template = '''\n",
    "    You are a majority voting engine. \n",
    "    You are provided with four different systems INPUTS. You do not have the capability to judge the correctness of the iNPUTS.\n",
    "    You need to identify the INPUTS that appears to be similar in majority of the systems.\n",
    "    \n",
    "    INPUT FROM SYSTEM 1 - \"Text_Only_Data_LLM\":\n",
    "    {Text_Only_Data_LLM}\n",
    "\n",
    "    INPUT FROM SYSTEM 2 - \"Text_Table_Image_Summary_LLM\":\n",
    "    {Text_Table_Image_Summary_LLM}\n",
    "\n",
    "    INPUT FROM SYSTEM 3 - \"Text_Table_Image_TexEembd_MMdl\":\n",
    "    {Text_Table_Image_TexEembd_MMdl}\n",
    "\n",
    "    INPUT FROM SYSTEM 4 - \"Text_Table_Image_MmdlEmbd_MMdl\":\n",
    "    {Text_Table_Image_MmdlEmbd_MMdl}\n",
    "    '''\n",
    "\n",
    "    prompt = ChatPromptTemplate.from_template(template)\n",
    "    model = OllamaLLM(model=\"llama3.2:1b\")\n",
    "    chain = prompt | model\n",
    "    answer = chain.invoke(answer_dict)\n",
    "    return answer"
   ]
  },
  {
   "cell_type": "code",
   "execution_count": 25,
   "metadata": {},
   "outputs": [
    {
     "data": {
      "text/plain": [
       "'I\\'m a majority voting engine, and I need to identify the inputs that appear to be similar in majority of the systems.\\n\\nAfter analyzing the inputs from Systems 1, 2, 3, and 4, I notice that all four inputs mention the accuracy of a \"CI1A J Thermocouple\" with a specific range (±2% or ±3°C) but do not provide any information about its actual accuracy.\\n\\nThe most similar input is System 3\\'s statement about the accuracy ranges for temperatures between 0 and 225°C, which matches Systems 1, 2, and 4. However, it does not mention a specific range of -2% or -3°C, making it different from System 1.\\n\\nTherefore, I would conclude that inputs 1, 2, 3, and 4 appear to be similar in majority, as they all discuss the accuracy of the same input.'"
      ]
     },
     "execution_count": 25,
     "metadata": {},
     "output_type": "execute_result"
    }
   ],
   "source": [
    "ensemble_result(answer_dict_refrmtd)"
   ]
  },
  {
   "cell_type": "code",
   "execution_count": 32,
   "metadata": {},
   "outputs": [],
   "source": [
    "def summarize_result(answer_dict):\n",
    "    template = '''\n",
    "\n",
    "    You are an answer summarization engine. You are given a question and four system answers.\n",
    "    You must summarize the answers concisely while retaining all critical information.\n",
    "\n",
    "    QUESTION: {question}\n",
    "\n",
    "    INPUT FROM SYSTEM 1 - \"Text_Only_Data_LLM\":\n",
    "    {Text_Only_Data_LLM}\n",
    "\n",
    "    INPUT FROM SYSTEM 2 - \"Text_Table_Image_Summary_LLM\":\n",
    "    {Text_Table_Image_Summary_LLM}\n",
    "\n",
    "    INPUT FROM SYSTEM 3 - \"Text_Table_Image_TexEembd_MMdl\":\n",
    "    {Text_Table_Image_TexEembd_MMdl}\n",
    "\n",
    "    INPUT FROM SYSTEM 4 - \"Text_Table_Image_MmdlEmbd_MMdl\":\n",
    "    {Text_Table_Image_MmdlEmbd_MMdl}\n",
    "    '''\n",
    "\n",
    "    prompt = ChatPromptTemplate.from_template(template)\n",
    "    model = OllamaLLM(model=\"llama3.2:1b\")\n",
    "    chain = prompt | model\n",
    "    answer = chain.invoke(answer_dict)\n",
    "    return answer"
   ]
  },
  {
   "cell_type": "code",
   "execution_count": 33,
   "metadata": {},
   "outputs": [
    {
     "data": {
      "text/plain": [
       "\"I can't provide an accurate summary of the accuracy of CI1A J Thermocouple due to the limited and inconsistent information provided across the systems. However, I can provide a concise overview of the available information:\\n\\n- System 1: Provides an absolute accuracy range of -2% to -3°C (-6°F to -4.67°F) for temperatures between 0°C and 225°C (32°F to 440°F).\\n- System 2: Offers a temperature range of ±2% to ±3°C (±6°F to ±6°F) for the accuracy range.\\n- System 3: Specifies an absolute error range of ±2% to ±3°C (±6°F to ±6°F) with a maximum temperature range of 225°C (32°F).\\n- System 4: Offers an accuracy range from 0°C to 115°C (32°F to 240°F) with an error margin of -2% to -3°C (-6°F to -11.67°F).\\n\\nGiven the inconsistent and incomplete information across systems, it's essential to consult the provided context or documents for more accurate and reliable information on the accuracy of CI1A J Thermocouple.\""
      ]
     },
     "execution_count": 33,
     "metadata": {},
     "output_type": "execute_result"
    }
   ],
   "source": [
    "summarize_result(answer_dict_refrmtd)"
   ]
  },
  {
   "cell_type": "code",
   "execution_count": 18,
   "metadata": {},
   "outputs": [
    {
     "name": "stdout",
     "output_type": "stream",
     "text": [
      "CPU times: total: 141 ms\n",
      "Wall time: 17.3 s\n"
     ]
    },
    {
     "data": {
      "text/plain": [
       "'I\\'ll identify the answer that appears in the majority of the systems.\\n\\nFrom System 1, we have \"The accuracy of CI1A J Thermocouple is larger of -2% or -3 C (-6 C F).\" and also from Text_Table_Image_Summary_LLM: \"This information can be found in the provided context.\"\\n\\nFrom System 3, \"The accuracy of the CI1A J Thermocouple ranges from ±2% or ±3°C (±6°F) for temperatures between 0 and 225°C (32 to 440°F).\" So we have two answers from this system.\\n\\nFrom Text_Table_Image_TexEembd_MMdl: We have \"The accuracy of the CI1A J Thermocouple ranges from ±2% or ±3°C (±6°F) for temperatures between 0 and 225°C (32 to 440°F).\" So we have two answers from this system.\\n\\nFrom Text_Table_Image_MmdlEmbd_MMdl: We have \"The accuracy of a CI1A J Thermocouple is given as 0 to 115°C (32 to 240°F) with a larger error of -2% or -3 C (-6°F).\"\\n\\nSince the answer from System 4 (\"Text_Table_Image_MmdlEmbd_MMdl\") has an additional piece of information about accuracy, and it\\'s more specific than what we have from Systems 1, 2, and 3. Therefore, this answer is likely to be correct.\\n\\nThe most accurate and comprehensive statement on the topic of accuracy for the CI1A J Thermocouple would be: \"The accuracy of a CI1A J Thermocouple is given as 0 to 115°C (32 to 240°F) with a larger error of -2% or -3°C (-6°F).\"'"
      ]
     },
     "execution_count": 18,
     "metadata": {},
     "output_type": "execute_result"
    }
   ],
   "source": [
    "%%time\n",
    "olama_active_lst = ollama_active_model_list()\n",
    "_rsp = [ollama_unload_models(mdl_nm) for mdl_nm in olama_active_lst]\n",
    "ensemble_result(answer_dict)"
   ]
  },
  {
   "cell_type": "code",
   "execution_count": 37,
   "metadata": {},
   "outputs": [],
   "source": [
    "from langchain_core.output_parsers import StrOutputParser"
   ]
  },
  {
   "cell_type": "code",
   "execution_count": 8,
   "metadata": {},
   "outputs": [],
   "source": [
    "def summarize_result(answer_dict):\n",
    "    answer_txt = ''\n",
    "    for idx, itms in enumerate(answer_dict.items()):\n",
    "        key, val = itms\n",
    "        answer_txt += val['output'] + \"\\n\"\n",
    "\n",
    "    template = '''summarize the text concisely while retaining all critical information.\n",
    "    Strictly Return only the summary. Do not add anything on your own.\n",
    "\n",
    "    TEXT: {text}\n",
    "    '''\n",
    "\n",
    "    prompt = ChatPromptTemplate.from_template(template)\n",
    "    model = OllamaLLM(model=\"llama3.2:1b\")\n",
    "    chain = prompt | model \n",
    "    answer = chain.invoke({'text':answer_txt})\n",
    "    return answer"
   ]
  },
  {
   "cell_type": "code",
   "execution_count": 9,
   "metadata": {},
   "outputs": [],
   "source": [
    "rslt = summarize_result(answer_dict)"
   ]
  },
  {
   "cell_type": "code",
   "execution_count": 10,
   "metadata": {},
   "outputs": [
    {
     "data": {
      "text/plain": [
       "'The accuracy range of CI1A J Thermocouple is ±2°C±3°C, which corresponds to ±6°F±6°F for temperatures between 0°C and 225°C (32°C to 450°C), and ±2°C±3°C for temperatures from -2°C to 115°C.'"
      ]
     },
     "execution_count": 10,
     "metadata": {},
     "output_type": "execute_result"
    }
   ],
   "source": [
    "rslt"
   ]
  }
 ],
 "metadata": {
  "kernelspec": {
   "display_name": ".venv",
   "language": "python",
   "name": "python3"
  },
  "language_info": {
   "codemirror_mode": {
    "name": "ipython",
    "version": 3
   },
   "file_extension": ".py",
   "mimetype": "text/x-python",
   "name": "python",
   "nbconvert_exporter": "python",
   "pygments_lexer": "ipython3",
   "version": "3.12.4"
  }
 },
 "nbformat": 4,
 "nbformat_minor": 2
}
